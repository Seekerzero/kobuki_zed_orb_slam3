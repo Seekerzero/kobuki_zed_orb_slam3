{
 "cells": [
  {
   "cell_type": "code",
   "execution_count": 7,
   "metadata": {},
   "outputs": [
    {
     "data": {
      "text/plain": [
       "array([[ 9.99999341e-01, -1.12939300e-03, -2.06080910e-04],\n",
       "       [ 1.12839796e-03,  9.99988005e-01, -4.76625875e-03],\n",
       "       [ 2.11461417e-04,  4.76602307e-03,  9.99988620e-01]])"
      ]
     },
     "execution_count": 7,
     "metadata": {},
     "output_type": "execute_result"
    }
   ],
   "source": [
    "import cv2 as cv\n",
    "import numpy as np\n",
    "Rx = 0.00476616\n",
    "CV_HD = -0.000208772\n",
    "Ry = CV_HD\n",
    "Rz = 0.0011289\n",
    "rotation_vec = (Rx, Ry, Rz)\n",
    "rotation_matrix = np.zeros(shape=(3,3))\n",
    "rotation_mat, _ = cv.Rodrigues(rotation_vec,rotation_matrix)\n",
    "rotation_mat"
   ]
  }
 ],
 "metadata": {
  "kernelspec": {
   "display_name": "Python 3",
   "language": "python",
   "name": "python3"
  },
  "language_info": {
   "codemirror_mode": {
    "name": "ipython",
    "version": 3
   },
   "file_extension": ".py",
   "mimetype": "text/x-python",
   "name": "python",
   "nbconvert_exporter": "python",
   "pygments_lexer": "ipython3",
   "version": "3.8.10"
  },
  "orig_nbformat": 4
 },
 "nbformat": 4,
 "nbformat_minor": 2
}
